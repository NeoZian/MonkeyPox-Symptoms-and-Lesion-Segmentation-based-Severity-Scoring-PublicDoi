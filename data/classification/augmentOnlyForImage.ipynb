{
 "cells": [
  {
   "cell_type": "code",
   "execution_count": 7,
   "id": "f7bc9c7d-cbe4-4974-8229-110e40c1adc3",
   "metadata": {},
   "outputs": [],
   "source": [
    "import os\n",
    "import cv2\n",
    "import albumentations as A\n",
    "from albumentations.pytorch import ToTensorV2\n",
    "import numpy as np\n",
    "\n",
    "# Define the augmentation pipeline\n",
    "transform = A.Compose([\n",
    "    A.HorizontalFlip(p=0.5),\n",
    "    A.VerticalFlip(p=0.5),\n",
    "    A.Rotate(limit=40, p=0.7),\n",
    "    A.RandomCrop(height=200, width=200, p=0.5),  # Ensures crop of exactly 200x200\n",
    "    A.Resize(height=224, width=224),  # Resize it back to 224x224\n",
    "    A.RandomBrightnessContrast(p=0.2),\n",
    "    A.Normalize(mean=(0.0, 0.0, 0.0), std=(1.0, 1.0, 1.0)),\n",
    "    ToTensorV2()\n",
    "])\n",
    "\n",
    "# Function to apply augmentation and save image\n",
    "def augment_and_save(image_path, save_img_dir, augment_count=5):\n",
    "    # Load the image\n",
    "    img = cv2.imread(image_path)\n",
    "\n",
    "    img_name = os.path.basename(image_path).split('.')[0]\n",
    "\n",
    "    for i in range(augment_count):\n",
    "        # Apply augmentation\n",
    "        augmented = transform(image=img)\n",
    "        augmented_img = augmented['image'].cpu().numpy().transpose(1, 2, 0)\n",
    "\n",
    "        # Convert back to original scale (unnormalize) for the image\n",
    "        augmented_img = (augmented_img * 255).astype(np.uint8)\n",
    "\n",
    "        # Save the augmented image with updated filenames\n",
    "        new_img_name = f\"{img_name}_aug_{i}.jpg\"\n",
    "        cv2.imwrite(os.path.join(save_img_dir, new_img_name), augmented_img)\n",
    "\n",
    "# Directory for images\n",
    "img_dir = 'images'\n",
    "\n",
    "# Directory for saving augmented images\n",
    "save_img_dir = 'img_aug'\n",
    "\n",
    "# Create output directory if it doesn't exist\n",
    "os.makedirs(save_img_dir, exist_ok=True)\n",
    "\n",
    "# Apply augmentation and save for each image\n",
    "for img_name in os.listdir(img_dir):\n",
    "    img_path = os.path.join(img_dir, img_name)\n",
    "\n",
    "    # Perform augmentation only on images\n",
    "    augment_and_save(img_path, save_img_dir)\n"
   ]
  },
  {
   "cell_type": "code",
   "execution_count": null,
   "id": "024cf00a-2183-466c-9b2c-b780159c9a62",
   "metadata": {},
   "outputs": [],
   "source": []
  }
 ],
 "metadata": {
  "kernelspec": {
   "display_name": "Python 3 (ipykernel)",
   "language": "python",
   "name": "python3"
  },
  "language_info": {
   "codemirror_mode": {
    "name": "ipython",
    "version": 3
   },
   "file_extension": ".py",
   "mimetype": "text/x-python",
   "name": "python",
   "nbconvert_exporter": "python",
   "pygments_lexer": "ipython3",
   "version": "3.12.2"
  }
 },
 "nbformat": 4,
 "nbformat_minor": 5
}

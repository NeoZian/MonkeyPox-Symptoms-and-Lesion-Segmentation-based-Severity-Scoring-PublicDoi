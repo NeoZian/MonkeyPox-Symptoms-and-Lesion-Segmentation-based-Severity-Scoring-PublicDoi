{
 "cells": [
  {
   "cell_type": "code",
   "execution_count": 1,
   "id": "77bd5a23-8fd2-4cf8-94b2-5c7a3be95855",
   "metadata": {},
   "outputs": [
    {
     "name": "stdout",
     "output_type": "stream",
     "text": [
      "CSV file 'labels_aug.csv' has been created with 1650 entries.\n"
     ]
    }
   ],
   "source": [
    "import os\n",
    "import pandas as pd\n",
    "\n",
    "# Define the paths\n",
    "data_dir = 'aug'  # Replace with the path to your data folder\n",
    "output_csv = 'labels_aug.csv'  # Output CSV file name\n",
    "\n",
    "# Initialize lists to store filepaths and labels\n",
    "filepaths = []\n",
    "labels = []\n",
    "\n",
    "# Loop through the folders\n",
    "for label_folder in ['MonkeyPox', 'NonMonkeyPox']:\n",
    "    folder_path = os.path.join(data_dir, label_folder)\n",
    "    if os.path.exists(folder_path):\n",
    "        for filename in os.listdir(folder_path):\n",
    "            if filename.endswith(('.jpg', '.jpeg', '.png')):  # Include only image files\n",
    "                filepaths.append(os.path.join(folder_path, filename))\n",
    "                labels.append(label_folder)\n",
    "\n",
    "# Create a DataFrame\n",
    "df = pd.DataFrame({\n",
    "    'filepath': filepaths,\n",
    "    'label': labels\n",
    "})\n",
    "\n",
    "# Save the DataFrame to a CSV file\n",
    "df.to_csv(output_csv, index=False)\n",
    "\n",
    "print(f\"CSV file '{output_csv}' has been created with {len(df)} entries.\")\n"
   ]
  },
  {
   "cell_type": "code",
   "execution_count": null,
   "id": "d8864ffa-4956-45b7-9ce3-23c23183bb22",
   "metadata": {},
   "outputs": [],
   "source": []
  }
 ],
 "metadata": {
  "kernelspec": {
   "display_name": "Python 3 (ipykernel)",
   "language": "python",
   "name": "python3"
  },
  "language_info": {
   "codemirror_mode": {
    "name": "ipython",
    "version": 3
   },
   "file_extension": ".py",
   "mimetype": "text/x-python",
   "name": "python",
   "nbconvert_exporter": "python",
   "pygments_lexer": "ipython3",
   "version": "3.12.2"
  }
 },
 "nbformat": 4,
 "nbformat_minor": 5
}
